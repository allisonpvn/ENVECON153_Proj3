{
 "cells": [
  {
   "cell_type": "markdown",
   "id": "a0bf53f4-bb96-4a9b-942d-e29626b2b1d0",
   "metadata": {},
   "source": [
    "## Estimation Example\n",
    "\n"
   ]
  },
  {
   "cell_type": "markdown",
   "id": "88320088-2594-409f-84e3-162d6f12f3cf",
   "metadata": {},
   "source": [
    "In this document we&rsquo;ll work through a simple approach to estimating\n",
    "Constant Frisch Elasticity (CFE) demand systems.\n",
    "\n",
    "There are two prerequisites; the first is the `CFEDemands` python\n",
    "module.  You may have this already, but if not it  can be installed with a simple:\n",
    "\n"
   ]
  },
  {
   "cell_type": "code",
   "execution_count": 1,
   "id": "4b97a584-04da-4a84-8ce0-3470435a5437",
   "metadata": {},
   "outputs": [
    {
     "name": "stdout",
     "output_type": "stream",
     "text": [
      "Collecting CFEDemands>=0.6.3.dev0 (from -r requirements.txt (line 5))\n",
      "  Downloading cfedemands-0.6.4.dev0-py2.py3-none-any.whl.metadata (1.6 kB)\n",
      "Collecting ConsumerDemands>=0.4.3.dev0 (from -r requirements.txt (line 7))\n",
      "  Downloading ConsumerDemands-0.4.3.dev0-py2.py3-none-any.whl.metadata (1.2 kB)\n",
      "Requirement already satisfied: matplotlib>=3.3.4 in /srv/conda/lib/python3.11/site-packages (from -r requirements.txt (line 10)) (3.10.1)\n",
      "Requirement already satisfied: numpy>=1.21.5 in /srv/conda/lib/python3.11/site-packages (from -r requirements.txt (line 14)) (2.2.3)\n",
      "Requirement already satisfied: pandas>=1.3.5 in /srv/conda/lib/python3.11/site-packages (from -r requirements.txt (line 20)) (2.2.3)\n",
      "Requirement already satisfied: plotly>=5.1.0 in /srv/conda/lib/python3.11/site-packages (from -r requirements.txt (line 23)) (6.0.0)\n",
      "Collecting eep153_tools>=0.11 (from -r requirements.txt (line 25))\n",
      "  Using cached eep153_tools-0.12.4-py2.py3-none-any.whl.metadata (363 bytes)\n",
      "Collecting python-gnupg (from -r requirements.txt (line 26))\n",
      "  Using cached python_gnupg-0.5.4-py2.py3-none-any.whl.metadata (2.0 kB)\n",
      "Collecting gspread_pandas>=3.3 (from -r requirements.txt (line 28))\n",
      "  Using cached gspread_pandas-3.3.0-py2.py3-none-any.whl.metadata (10 kB)\n",
      "Requirement already satisfied: scikit-learn in /srv/conda/lib/python3.11/site-packages (from -r requirements.txt (line 30)) (1.6.0)\n",
      "Requirement already satisfied: xarray in /srv/conda/lib/python3.11/site-packages (from -r requirements.txt (line 31)) (2025.1.1)\n",
      "Requirement already satisfied: scipy>=1.7.3 in /srv/conda/lib/python3.11/site-packages (from CFEDemands>=0.6.3.dev0->-r requirements.txt (line 5)) (1.14.1)\n",
      "Requirement already satisfied: importlib_metadata>=6.7.0 in /srv/conda/lib/python3.11/site-packages (from CFEDemands>=0.6.3.dev0->-r requirements.txt (line 5)) (8.6.1)\n",
      "Collecting fsspec (from CFEDemands>=0.6.3.dev0->-r requirements.txt (line 5))\n",
      "  Downloading fsspec-2025.3.2-py3-none-any.whl.metadata (11 kB)\n",
      "Requirement already satisfied: contourpy>=1.0.1 in /srv/conda/lib/python3.11/site-packages (from matplotlib>=3.3.4->-r requirements.txt (line 10)) (1.3.1)\n",
      "Requirement already satisfied: cycler>=0.10 in /srv/conda/lib/python3.11/site-packages (from matplotlib>=3.3.4->-r requirements.txt (line 10)) (0.12.1)\n",
      "Requirement already satisfied: fonttools>=4.22.0 in /srv/conda/lib/python3.11/site-packages (from matplotlib>=3.3.4->-r requirements.txt (line 10)) (4.56.0)\n",
      "Requirement already satisfied: kiwisolver>=1.3.1 in /srv/conda/lib/python3.11/site-packages (from matplotlib>=3.3.4->-r requirements.txt (line 10)) (1.4.7)\n",
      "Requirement already satisfied: packaging>=20.0 in /srv/conda/lib/python3.11/site-packages (from matplotlib>=3.3.4->-r requirements.txt (line 10)) (24.2)\n",
      "Requirement already satisfied: pillow>=8 in /srv/conda/lib/python3.11/site-packages (from matplotlib>=3.3.4->-r requirements.txt (line 10)) (11.1.0)\n",
      "Requirement already satisfied: pyparsing>=2.3.1 in /srv/conda/lib/python3.11/site-packages (from matplotlib>=3.3.4->-r requirements.txt (line 10)) (3.2.1)\n",
      "Requirement already satisfied: python-dateutil>=2.7 in /srv/conda/lib/python3.11/site-packages (from matplotlib>=3.3.4->-r requirements.txt (line 10)) (2.9.0.post0)\n",
      "Requirement already satisfied: pytz>=2020.1 in /srv/conda/lib/python3.11/site-packages (from pandas>=1.3.5->-r requirements.txt (line 20)) (2024.1)\n",
      "Requirement already satisfied: tzdata>=2022.7 in /srv/conda/lib/python3.11/site-packages (from pandas>=1.3.5->-r requirements.txt (line 20)) (2025.1)\n",
      "Requirement already satisfied: narwhals>=1.15.1 in /srv/conda/lib/python3.11/site-packages (from plotly>=5.1.0->-r requirements.txt (line 23)) (1.30.0)\n",
      "Requirement already satisfied: gspread<6,>=5.0.0 in /srv/conda/lib/python3.11/site-packages (from gspread_pandas>=3.3->-r requirements.txt (line 28)) (5.12.4)\n",
      "Requirement already satisfied: decorator in /srv/conda/lib/python3.11/site-packages (from gspread_pandas>=3.3->-r requirements.txt (line 28)) (5.1.1)\n",
      "Requirement already satisfied: google-auth in /srv/conda/lib/python3.11/site-packages (from gspread_pandas>=3.3->-r requirements.txt (line 28)) (2.38.0)\n",
      "Requirement already satisfied: google-auth-oauthlib in /srv/conda/lib/python3.11/site-packages (from gspread_pandas>=3.3->-r requirements.txt (line 28)) (1.2.1)\n",
      "Requirement already satisfied: joblib>=1.2.0 in /srv/conda/lib/python3.11/site-packages (from scikit-learn->-r requirements.txt (line 30)) (1.4.2)\n",
      "Requirement already satisfied: threadpoolctl>=3.1.0 in /srv/conda/lib/python3.11/site-packages (from scikit-learn->-r requirements.txt (line 30)) (3.6.0)\n",
      "Requirement already satisfied: cachetools<6.0,>=2.0.0 in /srv/conda/lib/python3.11/site-packages (from google-auth->gspread_pandas>=3.3->-r requirements.txt (line 28)) (5.5.2)\n",
      "Requirement already satisfied: pyasn1-modules>=0.2.1 in /srv/conda/lib/python3.11/site-packages (from google-auth->gspread_pandas>=3.3->-r requirements.txt (line 28)) (0.4.1)\n",
      "Requirement already satisfied: rsa<5,>=3.1.4 in /srv/conda/lib/python3.11/site-packages (from google-auth->gspread_pandas>=3.3->-r requirements.txt (line 28)) (4.9)\n",
      "Requirement already satisfied: requests-oauthlib>=0.7.0 in /srv/conda/lib/python3.11/site-packages (from google-auth-oauthlib->gspread_pandas>=3.3->-r requirements.txt (line 28)) (2.0.0)\n",
      "Requirement already satisfied: zipp>=3.20 in /srv/conda/lib/python3.11/site-packages (from importlib_metadata>=6.7.0->CFEDemands>=0.6.3.dev0->-r requirements.txt (line 5)) (3.21.0)\n",
      "Requirement already satisfied: six>=1.5 in /srv/conda/lib/python3.11/site-packages (from python-dateutil>=2.7->matplotlib>=3.3.4->-r requirements.txt (line 10)) (1.17.0)\n",
      "Requirement already satisfied: pyasn1<0.7.0,>=0.4.6 in /srv/conda/lib/python3.11/site-packages (from pyasn1-modules>=0.2.1->google-auth->gspread_pandas>=3.3->-r requirements.txt (line 28)) (0.6.1)\n",
      "Requirement already satisfied: oauthlib>=3.0.0 in /srv/conda/lib/python3.11/site-packages (from requests-oauthlib>=0.7.0->google-auth-oauthlib->gspread_pandas>=3.3->-r requirements.txt (line 28)) (3.2.2)\n",
      "Requirement already satisfied: requests>=2.0.0 in /srv/conda/lib/python3.11/site-packages (from requests-oauthlib>=0.7.0->google-auth-oauthlib->gspread_pandas>=3.3->-r requirements.txt (line 28)) (2.32.3)\n",
      "Requirement already satisfied: charset_normalizer<4,>=2 in /srv/conda/lib/python3.11/site-packages (from requests>=2.0.0->requests-oauthlib>=0.7.0->google-auth-oauthlib->gspread_pandas>=3.3->-r requirements.txt (line 28)) (3.4.0)\n",
      "Requirement already satisfied: idna<4,>=2.5 in /srv/conda/lib/python3.11/site-packages (from requests>=2.0.0->requests-oauthlib>=0.7.0->google-auth-oauthlib->gspread_pandas>=3.3->-r requirements.txt (line 28)) (3.10)\n",
      "Requirement already satisfied: urllib3<3,>=1.21.1 in /srv/conda/lib/python3.11/site-packages (from requests>=2.0.0->requests-oauthlib>=0.7.0->google-auth-oauthlib->gspread_pandas>=3.3->-r requirements.txt (line 28)) (2.3.0)\n",
      "Requirement already satisfied: certifi>=2017.4.17 in /srv/conda/lib/python3.11/site-packages (from requests>=2.0.0->requests-oauthlib>=0.7.0->google-auth-oauthlib->gspread_pandas>=3.3->-r requirements.txt (line 28)) (2025.1.31)\n",
      "Downloading cfedemands-0.6.4.dev0-py2.py3-none-any.whl (45 kB)\n",
      "Downloading ConsumerDemands-0.4.3.dev0-py2.py3-none-any.whl (12 kB)\n",
      "Using cached eep153_tools-0.12.4-py2.py3-none-any.whl (4.9 kB)\n",
      "Using cached python_gnupg-0.5.4-py2.py3-none-any.whl (21 kB)\n",
      "Using cached gspread_pandas-3.3.0-py2.py3-none-any.whl (27 kB)\n",
      "Downloading fsspec-2025.3.2-py3-none-any.whl (194 kB)\n",
      "Installing collected packages: python-gnupg, eep153_tools, ConsumerDemands, fsspec, CFEDemands, gspread_pandas\n",
      "  Attempting uninstall: gspread_pandas\n",
      "    Found existing installation: gspread-pandas 2.2.3\n",
      "    Uninstalling gspread-pandas-2.2.3:\n",
      "      Successfully uninstalled gspread-pandas-2.2.3\n",
      "Successfully installed CFEDemands-0.6.4.dev0 ConsumerDemands-0.4.3.dev0 eep153_tools-0.12.4 fsspec-2025.3.2 gspread_pandas-3.3.0 python-gnupg-0.5.4\n"
     ]
    }
   ],
   "source": [
    "#!pip install -r requirements.txt"
   ]
  },
  {
   "cell_type": "markdown",
   "id": "f0f8f2c5-fe1c-4a88-bb4b-f0162ec3c3c5",
   "metadata": {},
   "source": [
    "The second prerequisite is a dataset including detailed information on\n",
    "household expenditures and characteristics.  The structure of that\n",
    "dataset is detailed in the next section.\n",
    "\n"
   ]
  },
  {
   "cell_type": "markdown",
   "id": "f83a2186-f5e8-474b-a9b0-a8d8f1ab6b30",
   "metadata": {},
   "source": [
    "### Data\n",
    "\n"
   ]
  },
  {
   "cell_type": "markdown",
   "id": "602db411-430c-4fd8-9083-5512517b504a",
   "metadata": {},
   "source": [
    "Consider the case in which the data are saved in a google sheet; we&rsquo;ll\n",
    "turn data from these into `pandas` dataframes.\n",
    "There are limits on the allowable size of google sheets (5 million\n",
    "cells when I last checked), so if your dataset is larger than this you&rsquo;ll need some other\n",
    "mechanism to get your data into such dataframes.  Even in this latter\n",
    "case you&rsquo;ll want your dataframes to have a structure that matches the\n",
    "description given below.\n",
    "\n"
   ]
  },
  {
   "cell_type": "markdown",
   "id": "105eeb4b-0f06-46d5-9d6f-89af16593f84",
   "metadata": {},
   "source": [
    "#### Structure of the Spreadsheet\n",
    "\n"
   ]
  },
  {
   "cell_type": "markdown",
   "id": "2bc3e216-6466-4da6-9c54-b6e66e435e65",
   "metadata": {},
   "source": [
    "An example spreadsheet with data for Uganda can be found at\n",
    "[https://docs.google.com/spreadsheets/d/1yFWlP5N7Aowaj6t2roRSFFUC50aFD-RLBGfzGtqLl0w/](https://docs.google.com/spreadsheets/d/1yFWlP5N7Aowaj6t2roRSFFUC50aFD-RLBGfzGtqLl0w/)\n",
    "\n",
    "This spreadsheet consists of several worksheets, labeled &ldquo;RDI&rdquo;, &ldquo;FCT&rdquo;,\n",
    "&ldquo;Household Characteristics&rdquo;, and a series of different years of food expenditures and prices\n",
    "\n",
    "Most worksheets have the initial three columns labeled &ldquo;i&rdquo;, &ldquo;t&rdquo;, and\n",
    "&ldquo;m&rdquo;; together these identify an observation uniquely.  The column &ldquo;i&rdquo;\n",
    "should include a household id; the column &ldquo;t&rdquo; should include an\n",
    "indicator for the year or period (for those of you with\n",
    "cross-sectional data these will all take a common value, e.g., 2019);\n",
    "the column &ldquo;m&rdquo; should be an indicator of &ldquo;market&rdquo;, which may be a\n",
    "region identifier, or may take a single value (e.g., &ldquo;Uganda&rdquo;).\n",
    "\n",
    "The triple (i,t,m) will serve as the index of some constructed\n",
    "dataframes.  It is important not to have **too** many different values\n",
    "for &ldquo;m&rdquo; (unless you have lots of data and RAM to play with).\n",
    "\n",
    "Beyond the first three columns, the &ldquo;Expenditures&rdquo; worksheet for a given year should have one index (or alternatively, one column) for each category of expenditures (e.g., &ldquo;Beans&rdquo;, &ldquo;Beef&rdquo;, &ldquo;Beer&rdquo;,&#x2026;).\n",
    "\n",
    "Beyond the first three columns, the &ldquo;Household Characteristics&rdquo; should\n",
    "have columns corresponding to different elements of the vector of\n",
    "observable characteristics $z$.  If the data permit, I recommend\n",
    "constructing observables that match what I have in these data:\n",
    "namely numbers of different children by age and sex, along with the\n",
    "logarithm of total household size (&ldquo;log HSize&rdquo;).\n",
    "\n"
   ]
  },
  {
   "cell_type": "markdown",
   "id": "ae08f41f-ee1a-4e6a-b00d-50345e581276",
   "metadata": {},
   "source": [
    "#### From Sheet to DataFrame to Regression Object\n",
    "\n"
   ]
  },
  {
   "cell_type": "markdown",
   "id": "f4e3b423-609a-4977-9783-689fa3be0cb9",
   "metadata": {},
   "source": [
    "We begin by defining a dictionary that contains the spreadsheet key.\n",
    "One is provided for the Ugandan example that I wish to work\n",
    "through.\n",
    "\n"
   ]
  },
  {
   "cell_type": "code",
   "execution_count": 54,
   "id": "41e69f09-5ced-4af5-8e1f-ee0c04c83fb0",
   "metadata": {},
   "outputs": [],
   "source": [
    "Uganda_Data = '1yFWlP5N7Aowaj6t2roRSFFUC50aFD-RLBGfzGtqLl0w'\n",
    "Tanzania_Data = '1tlNUxe2hY2DAOsv6u7R7yC_CiBcr05cXXQiRWBlEHEo'\n",
    "Senegal_Data = '1cCszXB2Irc1Dp9zyIQgeu4OVWy9ZqvJbTielK8h9PLk'\n",
    "Mali_Data = '1FnbKj5gwoAQb0QSunBQmyExHwaiLEAdAFCxL59SWLyg'"
   ]
  },
  {
   "cell_type": "markdown",
   "id": "49ec52af-1532-4c57-8f70-a166fe4340bd",
   "metadata": {},
   "source": [
    "With the spreadsheet defined , grab it and define a couple of\n",
    "dataframes. (Sheets should be shared with `students@eep153.iam.gserviceaccount.com`):\n",
    "\n"
   ]
  },
  {
   "cell_type": "code",
   "execution_count": 52,
   "id": "a9dadc43-f3ec-4182-8e3c-633f4915ad14",
   "metadata": {},
   "outputs": [],
   "source": [
    "def load_country_data(sheet_key):\n",
    "\n",
    "    sheet_names = {\n",
    "        \"expenditures\": \"Food Expenditures (2019-20)\",\n",
    "        \"prices\": \"Food Prices (2019-20)\",\n",
    "        \"household\": \"Household Characteristics\"\n",
    "    }\n",
    "\n",
    "    # Read expenditures\n",
    "    x = read_sheets(sheet_key, sheet=sheet_names[\"expenditures\"])\n",
    "    x = x.set_index(['i','t','m','j']).squeeze()\n",
    "\n",
    "    # Read prices\n",
    "    p = read_sheets(sheet_key, sheet=sheet_names[\"prices\"]).set_index(['t','m','j','u'])\n",
    "    p = p.groupby(['t','m','j','u']).median()  # Median price\n",
    "    #p.index = p.index.set_levels(p.index.levels[-1].str.lower(), level='u')\n",
    "\n",
    "    p = p.xs('kg', level='u').squeeze().unstack('j')  # Just kg prices\n",
    "    p = p[x.index.levels[-1]].T  # Keep only goods in expenditures\n",
    "\n",
    "    # Read household characteristics\n",
    "    d = read_sheets(sheet_key, sheet=sheet_names[\"household\"])\n",
    "    d.columns.name = 'k'\n",
    "    d = d.replace(np.nan, 0)  # Fill blanks with zero\n",
    "\n",
    "    # Process expenditures\n",
    "    x = x.T.groupby(['i','t','m','j']).sum()\n",
    "    x = x.replace(0, np.nan)  # Replace zero with missing\n",
    "    y = np.log(x)  # Take logs\n",
    "\n",
    "    d.set_index(['i','t','m'], inplace=True)\n",
    "\n",
    "    return x, y, p, d\n"
   ]
  },
  {
   "cell_type": "code",
   "execution_count": 55,
   "id": "1512991a-cc12-4f75-bd0b-58a0b510a817",
   "metadata": {},
   "outputs": [
    {
     "ename": "KeyError",
     "evalue": "'[\\'Ananas\\', \\'Arôme (Maggi, Jumbo, etc.)\\', \\'Autres huiles n.d.a. (maïs, huile palmiste, etc.)\\', \\'Autres tisanes et infusions n.d.a. (quinquelibat, citronelle, etc.)\\', \\'Biscuits\\', \\'Bières et vins traditionnels (soum soum, sung, vin de palme, vin de raphia, etc.)\\', \\'Bières industrielles\\', \\'Boissons gazeuses (coca, etc.)\\', \\'Charcuterie (jambon, saucisson), conserves de viandes\\', \\'Chocolat en poudre\\', \\'Chocolat à croquer, pâte à tartiner\\', \\'Conserves de poisson\\', \\'Cube alimentaire (Maggi, Jumbo, )\\', \\'Eau minérale/ filtrée\\', \\'Feuilles de manioc, feuilles de taro et autres feuilles\\', \\'Feuilles de nébéday (moringa)\\', \\'Gari, tapioca\\', \"Huile d\\'arachide raffinée\", \\'Huile d____arachide \"ségal\"\\', \\'Huile de coton\\', \\'Huile de palme raffinée\\', \\'Huile de palme rouge\\', \\'Huile de soja / végétale (e.g., Ninaal, Jaara, etc.)\\', \\'Jus de fruits (orange, bissap, gingembre, jus de cajou,etc.)\\', \\'Jus en poudre\\', \\'Lait caillé, yaourt\\', \\'Lait concentré non-sucré\\', \\'Lait concentré sucré\\', \\'Lait et farines pour bébé\\', \\'Lait frais\\', \\'Mayonnaise\\', \\'Maïs en épi\\', \\'Noix de cajou\\', \\'Noix de coco\\', \\'Oeufs\\', \\'Pain moderne\\', \\'Pain traditionnel\\', \\'Petits pois conserve\\', \\'Poulet sur pied\\', \\'Salade (laitue, batavia, etc.)\\'] not in index'",
     "output_type": "error",
     "traceback": [
      "\u001b[0;31m---------------------------------------------------------------------------\u001b[0m",
      "\u001b[0;31mKeyError\u001b[0m                                  Traceback (most recent call last)",
      "Cell \u001b[0;32mIn[55], line 4\u001b[0m\n\u001b[1;32m      2\u001b[0m x_tanzania, y_tanzania, p_tanzania, d_tanzania \u001b[38;5;241m=\u001b[39m load_country_data(Tanzania_Data)\n\u001b[1;32m      3\u001b[0m \u001b[38;5;66;03m#x_mali, y_mali, p_mali, d_mali = load_country_data(Mali_Data)\u001b[39;00m\n\u001b[0;32m----> 4\u001b[0m x_senegal, y_senegal, p_senegal, d_senegal \u001b[38;5;241m=\u001b[39m \u001b[43mload_country_data\u001b[49m\u001b[43m(\u001b[49m\u001b[43mSenegal_Data\u001b[49m\u001b[43m)\u001b[49m\n",
      "Cell \u001b[0;32mIn[52], line 19\u001b[0m, in \u001b[0;36mload_country_data\u001b[0;34m(sheet_key)\u001b[0m\n\u001b[1;32m     16\u001b[0m p\u001b[38;5;241m.\u001b[39mindex \u001b[38;5;241m=\u001b[39m p\u001b[38;5;241m.\u001b[39mindex\u001b[38;5;241m.\u001b[39mset_levels(p\u001b[38;5;241m.\u001b[39mindex\u001b[38;5;241m.\u001b[39mlevels[\u001b[38;5;241m-\u001b[39m\u001b[38;5;241m1\u001b[39m]\u001b[38;5;241m.\u001b[39mstr\u001b[38;5;241m.\u001b[39mlower(), level\u001b[38;5;241m=\u001b[39m\u001b[38;5;124m'\u001b[39m\u001b[38;5;124mu\u001b[39m\u001b[38;5;124m'\u001b[39m)\n\u001b[1;32m     18\u001b[0m p \u001b[38;5;241m=\u001b[39m p\u001b[38;5;241m.\u001b[39mxs(\u001b[38;5;124m'\u001b[39m\u001b[38;5;124mkg\u001b[39m\u001b[38;5;124m'\u001b[39m, level\u001b[38;5;241m=\u001b[39m\u001b[38;5;124m'\u001b[39m\u001b[38;5;124mu\u001b[39m\u001b[38;5;124m'\u001b[39m)\u001b[38;5;241m.\u001b[39msqueeze()\u001b[38;5;241m.\u001b[39munstack(\u001b[38;5;124m'\u001b[39m\u001b[38;5;124mj\u001b[39m\u001b[38;5;124m'\u001b[39m)  \u001b[38;5;66;03m# Just kg prices\u001b[39;00m\n\u001b[0;32m---> 19\u001b[0m p \u001b[38;5;241m=\u001b[39m \u001b[43mp\u001b[49m\u001b[43m[\u001b[49m\u001b[43mx\u001b[49m\u001b[38;5;241;43m.\u001b[39;49m\u001b[43mindex\u001b[49m\u001b[38;5;241;43m.\u001b[39;49m\u001b[43mlevels\u001b[49m\u001b[43m[\u001b[49m\u001b[38;5;241;43m-\u001b[39;49m\u001b[38;5;241;43m1\u001b[39;49m\u001b[43m]\u001b[49m\u001b[43m]\u001b[49m\u001b[38;5;241m.\u001b[39mT  \u001b[38;5;66;03m# Keep only goods in expenditures\u001b[39;00m\n\u001b[1;32m     21\u001b[0m \u001b[38;5;66;03m# Read household characteristics\u001b[39;00m\n\u001b[1;32m     22\u001b[0m d \u001b[38;5;241m=\u001b[39m read_sheets(sheet_key, sheet\u001b[38;5;241m=\u001b[39msheet_names[\u001b[38;5;124m\"\u001b[39m\u001b[38;5;124mhousehold\u001b[39m\u001b[38;5;124m\"\u001b[39m])\n",
      "File \u001b[0;32m/srv/conda/lib/python3.11/site-packages/pandas/core/frame.py:4108\u001b[0m, in \u001b[0;36mDataFrame.__getitem__\u001b[0;34m(self, key)\u001b[0m\n\u001b[1;32m   4106\u001b[0m     \u001b[38;5;28;01mif\u001b[39;00m is_iterator(key):\n\u001b[1;32m   4107\u001b[0m         key \u001b[38;5;241m=\u001b[39m \u001b[38;5;28mlist\u001b[39m(key)\n\u001b[0;32m-> 4108\u001b[0m     indexer \u001b[38;5;241m=\u001b[39m \u001b[38;5;28;43mself\u001b[39;49m\u001b[38;5;241;43m.\u001b[39;49m\u001b[43mcolumns\u001b[49m\u001b[38;5;241;43m.\u001b[39;49m\u001b[43m_get_indexer_strict\u001b[49m\u001b[43m(\u001b[49m\u001b[43mkey\u001b[49m\u001b[43m,\u001b[49m\u001b[43m \u001b[49m\u001b[38;5;124;43m\"\u001b[39;49m\u001b[38;5;124;43mcolumns\u001b[39;49m\u001b[38;5;124;43m\"\u001b[39;49m\u001b[43m)\u001b[49m[\u001b[38;5;241m1\u001b[39m]\n\u001b[1;32m   4110\u001b[0m \u001b[38;5;66;03m# take() does not accept boolean indexers\u001b[39;00m\n\u001b[1;32m   4111\u001b[0m \u001b[38;5;28;01mif\u001b[39;00m \u001b[38;5;28mgetattr\u001b[39m(indexer, \u001b[38;5;124m\"\u001b[39m\u001b[38;5;124mdtype\u001b[39m\u001b[38;5;124m\"\u001b[39m, \u001b[38;5;28;01mNone\u001b[39;00m) \u001b[38;5;241m==\u001b[39m \u001b[38;5;28mbool\u001b[39m:\n",
      "File \u001b[0;32m/srv/conda/lib/python3.11/site-packages/pandas/core/indexes/base.py:6200\u001b[0m, in \u001b[0;36mIndex._get_indexer_strict\u001b[0;34m(self, key, axis_name)\u001b[0m\n\u001b[1;32m   6197\u001b[0m \u001b[38;5;28;01melse\u001b[39;00m:\n\u001b[1;32m   6198\u001b[0m     keyarr, indexer, new_indexer \u001b[38;5;241m=\u001b[39m \u001b[38;5;28mself\u001b[39m\u001b[38;5;241m.\u001b[39m_reindex_non_unique(keyarr)\n\u001b[0;32m-> 6200\u001b[0m \u001b[38;5;28;43mself\u001b[39;49m\u001b[38;5;241;43m.\u001b[39;49m\u001b[43m_raise_if_missing\u001b[49m\u001b[43m(\u001b[49m\u001b[43mkeyarr\u001b[49m\u001b[43m,\u001b[49m\u001b[43m \u001b[49m\u001b[43mindexer\u001b[49m\u001b[43m,\u001b[49m\u001b[43m \u001b[49m\u001b[43maxis_name\u001b[49m\u001b[43m)\u001b[49m\n\u001b[1;32m   6202\u001b[0m keyarr \u001b[38;5;241m=\u001b[39m \u001b[38;5;28mself\u001b[39m\u001b[38;5;241m.\u001b[39mtake(indexer)\n\u001b[1;32m   6203\u001b[0m \u001b[38;5;28;01mif\u001b[39;00m \u001b[38;5;28misinstance\u001b[39m(key, Index):\n\u001b[1;32m   6204\u001b[0m     \u001b[38;5;66;03m# GH 42790 - Preserve name from an Index\u001b[39;00m\n",
      "File \u001b[0;32m/srv/conda/lib/python3.11/site-packages/pandas/core/indexes/base.py:6252\u001b[0m, in \u001b[0;36mIndex._raise_if_missing\u001b[0;34m(self, key, indexer, axis_name)\u001b[0m\n\u001b[1;32m   6249\u001b[0m     \u001b[38;5;28;01mraise\u001b[39;00m \u001b[38;5;167;01mKeyError\u001b[39;00m(\u001b[38;5;124mf\u001b[39m\u001b[38;5;124m\"\u001b[39m\u001b[38;5;124mNone of [\u001b[39m\u001b[38;5;132;01m{\u001b[39;00mkey\u001b[38;5;132;01m}\u001b[39;00m\u001b[38;5;124m] are in the [\u001b[39m\u001b[38;5;132;01m{\u001b[39;00maxis_name\u001b[38;5;132;01m}\u001b[39;00m\u001b[38;5;124m]\u001b[39m\u001b[38;5;124m\"\u001b[39m)\n\u001b[1;32m   6251\u001b[0m not_found \u001b[38;5;241m=\u001b[39m \u001b[38;5;28mlist\u001b[39m(ensure_index(key)[missing_mask\u001b[38;5;241m.\u001b[39mnonzero()[\u001b[38;5;241m0\u001b[39m]]\u001b[38;5;241m.\u001b[39munique())\n\u001b[0;32m-> 6252\u001b[0m \u001b[38;5;28;01mraise\u001b[39;00m \u001b[38;5;167;01mKeyError\u001b[39;00m(\u001b[38;5;124mf\u001b[39m\u001b[38;5;124m\"\u001b[39m\u001b[38;5;132;01m{\u001b[39;00mnot_found\u001b[38;5;132;01m}\u001b[39;00m\u001b[38;5;124m not in index\u001b[39m\u001b[38;5;124m\"\u001b[39m)\n",
      "\u001b[0;31mKeyError\u001b[0m: '[\\'Ananas\\', \\'Arôme (Maggi, Jumbo, etc.)\\', \\'Autres huiles n.d.a. (maïs, huile palmiste, etc.)\\', \\'Autres tisanes et infusions n.d.a. (quinquelibat, citronelle, etc.)\\', \\'Biscuits\\', \\'Bières et vins traditionnels (soum soum, sung, vin de palme, vin de raphia, etc.)\\', \\'Bières industrielles\\', \\'Boissons gazeuses (coca, etc.)\\', \\'Charcuterie (jambon, saucisson), conserves de viandes\\', \\'Chocolat en poudre\\', \\'Chocolat à croquer, pâte à tartiner\\', \\'Conserves de poisson\\', \\'Cube alimentaire (Maggi, Jumbo, )\\', \\'Eau minérale/ filtrée\\', \\'Feuilles de manioc, feuilles de taro et autres feuilles\\', \\'Feuilles de nébéday (moringa)\\', \\'Gari, tapioca\\', \"Huile d\\'arachide raffinée\", \\'Huile d____arachide \"ségal\"\\', \\'Huile de coton\\', \\'Huile de palme raffinée\\', \\'Huile de palme rouge\\', \\'Huile de soja / végétale (e.g., Ninaal, Jaara, etc.)\\', \\'Jus de fruits (orange, bissap, gingembre, jus de cajou,etc.)\\', \\'Jus en poudre\\', \\'Lait caillé, yaourt\\', \\'Lait concentré non-sucré\\', \\'Lait concentré sucré\\', \\'Lait et farines pour bébé\\', \\'Lait frais\\', \\'Mayonnaise\\', \\'Maïs en épi\\', \\'Noix de cajou\\', \\'Noix de coco\\', \\'Oeufs\\', \\'Pain moderne\\', \\'Pain traditionnel\\', \\'Petits pois conserve\\', \\'Poulet sur pied\\', \\'Salade (laitue, batavia, etc.)\\'] not in index'"
     ]
    }
   ],
   "source": [
    "#x_uganda, y_uganda, p_uganda, d_uganda = load_country_data(Uganda_Data)\n",
    "x_tanzania, y_tanzania, p_tanzania, d_tanzania = load_country_data(Tanzania_Data)\n",
    "#x_mali, y_mali, p_mali, d_mali = load_country_data(Mali_Data)\n",
    "x_senegal, y_senegal, p_senegal, d_senegal = load_country_data(Senegal_Data)"
   ]
  },
  {
   "cell_type": "markdown",
   "id": "5b2ac3b1-767a-446e-8fa3-509eb62e77c0",
   "metadata": {},
   "source": [
    "This gives a dataframe of household characteristics $d$ with a simple structure.\n",
    "\n"
   ]
  },
  {
   "cell_type": "code",
   "execution_count": 4,
   "id": "14d8591e-5b64-4005-b668-556db658cb6f",
   "metadata": {},
   "outputs": [
    {
     "data": {
      "text/html": [
       "<div>\n",
       "<style scoped>\n",
       "    .dataframe tbody tr th:only-of-type {\n",
       "        vertical-align: middle;\n",
       "    }\n",
       "\n",
       "    .dataframe tbody tr th {\n",
       "        vertical-align: top;\n",
       "    }\n",
       "\n",
       "    .dataframe thead th {\n",
       "        text-align: right;\n",
       "    }\n",
       "</style>\n",
       "<table border=\"1\" class=\"dataframe\">\n",
       "  <thead>\n",
       "    <tr style=\"text-align: right;\">\n",
       "      <th></th>\n",
       "      <th></th>\n",
       "      <th>k</th>\n",
       "      <th>Females 00-03</th>\n",
       "      <th>Females 04-08</th>\n",
       "      <th>Females 09-13</th>\n",
       "      <th>Females 14-18</th>\n",
       "      <th>Females 19-30</th>\n",
       "      <th>Females 31-50</th>\n",
       "      <th>Females 51-99</th>\n",
       "      <th>Males 00-03</th>\n",
       "      <th>Males 04-08</th>\n",
       "      <th>Males 09-13</th>\n",
       "      <th>Males 14-18</th>\n",
       "      <th>Males 19-30</th>\n",
       "      <th>Males 31-50</th>\n",
       "      <th>Males 51-99</th>\n",
       "      <th>log HSize</th>\n",
       "    </tr>\n",
       "    <tr>\n",
       "      <th>i</th>\n",
       "      <th>t</th>\n",
       "      <th>m</th>\n",
       "      <th></th>\n",
       "      <th></th>\n",
       "      <th></th>\n",
       "      <th></th>\n",
       "      <th></th>\n",
       "      <th></th>\n",
       "      <th></th>\n",
       "      <th></th>\n",
       "      <th></th>\n",
       "      <th></th>\n",
       "      <th></th>\n",
       "      <th></th>\n",
       "      <th></th>\n",
       "      <th></th>\n",
       "      <th></th>\n",
       "    </tr>\n",
       "  </thead>\n",
       "  <tbody>\n",
       "    <tr>\n",
       "      <th>0007d1f1449242feb5a25429644fb991</th>\n",
       "      <th>2019-20</th>\n",
       "      <th>Northern</th>\n",
       "      <td>0.0</td>\n",
       "      <td>0.0</td>\n",
       "      <td>0.0</td>\n",
       "      <td>0.0</td>\n",
       "      <td>1.0</td>\n",
       "      <td>0.0</td>\n",
       "      <td>1.0</td>\n",
       "      <td>1.0</td>\n",
       "      <td>0.0</td>\n",
       "      <td>0.0</td>\n",
       "      <td>1.0</td>\n",
       "      <td>1.0</td>\n",
       "      <td>0.0</td>\n",
       "      <td>0.0</td>\n",
       "      <td>1.609438</td>\n",
       "    </tr>\n",
       "    <tr>\n",
       "      <th>0010cbae3cea4ec9831f6cd92b02dc16</th>\n",
       "      <th>2019-20</th>\n",
       "      <th>Northern</th>\n",
       "      <td>0.0</td>\n",
       "      <td>0.0</td>\n",
       "      <td>0.0</td>\n",
       "      <td>0.0</td>\n",
       "      <td>1.0</td>\n",
       "      <td>0.0</td>\n",
       "      <td>1.0</td>\n",
       "      <td>0.0</td>\n",
       "      <td>0.0</td>\n",
       "      <td>0.0</td>\n",
       "      <td>0.0</td>\n",
       "      <td>0.0</td>\n",
       "      <td>0.0</td>\n",
       "      <td>1.0</td>\n",
       "      <td>1.098612</td>\n",
       "    </tr>\n",
       "    <tr>\n",
       "      <th>00246782f8654441a9df0f6ec0b6fc9f</th>\n",
       "      <th>2019-20</th>\n",
       "      <th>Northern</th>\n",
       "      <td>1.0</td>\n",
       "      <td>0.0</td>\n",
       "      <td>1.0</td>\n",
       "      <td>0.0</td>\n",
       "      <td>0.0</td>\n",
       "      <td>1.0</td>\n",
       "      <td>0.0</td>\n",
       "      <td>0.0</td>\n",
       "      <td>1.0</td>\n",
       "      <td>1.0</td>\n",
       "      <td>0.0</td>\n",
       "      <td>0.0</td>\n",
       "      <td>1.0</td>\n",
       "      <td>0.0</td>\n",
       "      <td>1.791759</td>\n",
       "    </tr>\n",
       "    <tr>\n",
       "      <th>003ed8d32f794609919d60d2ed8813e8</th>\n",
       "      <th>2019-20</th>\n",
       "      <th>Eastern</th>\n",
       "      <td>0.0</td>\n",
       "      <td>1.0</td>\n",
       "      <td>1.0</td>\n",
       "      <td>0.0</td>\n",
       "      <td>0.0</td>\n",
       "      <td>0.0</td>\n",
       "      <td>1.0</td>\n",
       "      <td>0.0</td>\n",
       "      <td>0.0</td>\n",
       "      <td>1.0</td>\n",
       "      <td>0.0</td>\n",
       "      <td>0.0</td>\n",
       "      <td>0.0</td>\n",
       "      <td>0.0</td>\n",
       "      <td>1.386294</td>\n",
       "    </tr>\n",
       "    <tr>\n",
       "      <th>004e93d7552248ed95d8bc3ec21bdbdb</th>\n",
       "      <th>2018-19</th>\n",
       "      <th>Eastern</th>\n",
       "      <td>1.0</td>\n",
       "      <td>0.0</td>\n",
       "      <td>1.0</td>\n",
       "      <td>0.0</td>\n",
       "      <td>1.0</td>\n",
       "      <td>0.0</td>\n",
       "      <td>0.0</td>\n",
       "      <td>0.0</td>\n",
       "      <td>0.0</td>\n",
       "      <td>0.0</td>\n",
       "      <td>0.0</td>\n",
       "      <td>0.0</td>\n",
       "      <td>1.0</td>\n",
       "      <td>0.0</td>\n",
       "      <td>1.386294</td>\n",
       "    </tr>\n",
       "  </tbody>\n",
       "</table>\n",
       "</div>"
      ],
      "text/plain": [
       "k                                                  Females 00-03  \\\n",
       "i                                t       m                         \n",
       "0007d1f1449242feb5a25429644fb991 2019-20 Northern            0.0   \n",
       "0010cbae3cea4ec9831f6cd92b02dc16 2019-20 Northern            0.0   \n",
       "00246782f8654441a9df0f6ec0b6fc9f 2019-20 Northern            1.0   \n",
       "003ed8d32f794609919d60d2ed8813e8 2019-20 Eastern             0.0   \n",
       "004e93d7552248ed95d8bc3ec21bdbdb 2018-19 Eastern             1.0   \n",
       "\n",
       "k                                                  Females 04-08  \\\n",
       "i                                t       m                         \n",
       "0007d1f1449242feb5a25429644fb991 2019-20 Northern            0.0   \n",
       "0010cbae3cea4ec9831f6cd92b02dc16 2019-20 Northern            0.0   \n",
       "00246782f8654441a9df0f6ec0b6fc9f 2019-20 Northern            0.0   \n",
       "003ed8d32f794609919d60d2ed8813e8 2019-20 Eastern             1.0   \n",
       "004e93d7552248ed95d8bc3ec21bdbdb 2018-19 Eastern             0.0   \n",
       "\n",
       "k                                                  Females 09-13  \\\n",
       "i                                t       m                         \n",
       "0007d1f1449242feb5a25429644fb991 2019-20 Northern            0.0   \n",
       "0010cbae3cea4ec9831f6cd92b02dc16 2019-20 Northern            0.0   \n",
       "00246782f8654441a9df0f6ec0b6fc9f 2019-20 Northern            1.0   \n",
       "003ed8d32f794609919d60d2ed8813e8 2019-20 Eastern             1.0   \n",
       "004e93d7552248ed95d8bc3ec21bdbdb 2018-19 Eastern             1.0   \n",
       "\n",
       "k                                                  Females 14-18  \\\n",
       "i                                t       m                         \n",
       "0007d1f1449242feb5a25429644fb991 2019-20 Northern            0.0   \n",
       "0010cbae3cea4ec9831f6cd92b02dc16 2019-20 Northern            0.0   \n",
       "00246782f8654441a9df0f6ec0b6fc9f 2019-20 Northern            0.0   \n",
       "003ed8d32f794609919d60d2ed8813e8 2019-20 Eastern             0.0   \n",
       "004e93d7552248ed95d8bc3ec21bdbdb 2018-19 Eastern             0.0   \n",
       "\n",
       "k                                                  Females 19-30  \\\n",
       "i                                t       m                         \n",
       "0007d1f1449242feb5a25429644fb991 2019-20 Northern            1.0   \n",
       "0010cbae3cea4ec9831f6cd92b02dc16 2019-20 Northern            1.0   \n",
       "00246782f8654441a9df0f6ec0b6fc9f 2019-20 Northern            0.0   \n",
       "003ed8d32f794609919d60d2ed8813e8 2019-20 Eastern             0.0   \n",
       "004e93d7552248ed95d8bc3ec21bdbdb 2018-19 Eastern             1.0   \n",
       "\n",
       "k                                                  Females 31-50  \\\n",
       "i                                t       m                         \n",
       "0007d1f1449242feb5a25429644fb991 2019-20 Northern            0.0   \n",
       "0010cbae3cea4ec9831f6cd92b02dc16 2019-20 Northern            0.0   \n",
       "00246782f8654441a9df0f6ec0b6fc9f 2019-20 Northern            1.0   \n",
       "003ed8d32f794609919d60d2ed8813e8 2019-20 Eastern             0.0   \n",
       "004e93d7552248ed95d8bc3ec21bdbdb 2018-19 Eastern             0.0   \n",
       "\n",
       "k                                                  Females 51-99  Males 00-03  \\\n",
       "i                                t       m                                      \n",
       "0007d1f1449242feb5a25429644fb991 2019-20 Northern            1.0          1.0   \n",
       "0010cbae3cea4ec9831f6cd92b02dc16 2019-20 Northern            1.0          0.0   \n",
       "00246782f8654441a9df0f6ec0b6fc9f 2019-20 Northern            0.0          0.0   \n",
       "003ed8d32f794609919d60d2ed8813e8 2019-20 Eastern             1.0          0.0   \n",
       "004e93d7552248ed95d8bc3ec21bdbdb 2018-19 Eastern             0.0          0.0   \n",
       "\n",
       "k                                                  Males 04-08  Males 09-13  \\\n",
       "i                                t       m                                    \n",
       "0007d1f1449242feb5a25429644fb991 2019-20 Northern          0.0          0.0   \n",
       "0010cbae3cea4ec9831f6cd92b02dc16 2019-20 Northern          0.0          0.0   \n",
       "00246782f8654441a9df0f6ec0b6fc9f 2019-20 Northern          1.0          1.0   \n",
       "003ed8d32f794609919d60d2ed8813e8 2019-20 Eastern           0.0          1.0   \n",
       "004e93d7552248ed95d8bc3ec21bdbdb 2018-19 Eastern           0.0          0.0   \n",
       "\n",
       "k                                                  Males 14-18  Males 19-30  \\\n",
       "i                                t       m                                    \n",
       "0007d1f1449242feb5a25429644fb991 2019-20 Northern          1.0          1.0   \n",
       "0010cbae3cea4ec9831f6cd92b02dc16 2019-20 Northern          0.0          0.0   \n",
       "00246782f8654441a9df0f6ec0b6fc9f 2019-20 Northern          0.0          0.0   \n",
       "003ed8d32f794609919d60d2ed8813e8 2019-20 Eastern           0.0          0.0   \n",
       "004e93d7552248ed95d8bc3ec21bdbdb 2018-19 Eastern           0.0          0.0   \n",
       "\n",
       "k                                                  Males 31-50  Males 51-99  \\\n",
       "i                                t       m                                    \n",
       "0007d1f1449242feb5a25429644fb991 2019-20 Northern          0.0          0.0   \n",
       "0010cbae3cea4ec9831f6cd92b02dc16 2019-20 Northern          0.0          1.0   \n",
       "00246782f8654441a9df0f6ec0b6fc9f 2019-20 Northern          1.0          0.0   \n",
       "003ed8d32f794609919d60d2ed8813e8 2019-20 Eastern           0.0          0.0   \n",
       "004e93d7552248ed95d8bc3ec21bdbdb 2018-19 Eastern           1.0          0.0   \n",
       "\n",
       "k                                                  log HSize  \n",
       "i                                t       m                    \n",
       "0007d1f1449242feb5a25429644fb991 2019-20 Northern   1.609438  \n",
       "0010cbae3cea4ec9831f6cd92b02dc16 2019-20 Northern   1.098612  \n",
       "00246782f8654441a9df0f6ec0b6fc9f 2019-20 Northern   1.791759  \n",
       "003ed8d32f794609919d60d2ed8813e8 2019-20 Eastern    1.386294  \n",
       "004e93d7552248ed95d8bc3ec21bdbdb 2018-19 Eastern    1.386294  "
      ]
     },
     "execution_count": 4,
     "metadata": {},
     "output_type": "execute_result"
    }
   ],
   "source": [
    "d_uganda.head()"
   ]
  },
  {
   "cell_type": "markdown",
   "id": "e1c57a87-b4b8-452a-9804-dd304ad28b27",
   "metadata": {},
   "source": [
    "Also a dataframe of log expenditures $y$ with a similarly simple\n",
    "structure.  Note that any expenditures of zero are dropped and\n",
    "replaced with a missing value indicator.\n",
    "\n"
   ]
  },
  {
   "cell_type": "code",
   "execution_count": 5,
   "id": "5453b3de-a229-49b9-8ce9-290569780340",
   "metadata": {},
   "outputs": [
    {
     "data": {
      "text/plain": [
       "i                                 t        m         j              \n",
       "0007d1f1449242feb5a25429644fb991  2019-20  Northern  Beans (dry)         9.392662\n",
       "                                                     Beef               10.239960\n",
       "                                                     Beer                9.169518\n",
       "                                                     Cabbage (green)     6.907755\n",
       "                                                     Cassava (fresh)     8.294050\n",
       "Name: Expenditure, dtype: float64"
      ]
     },
     "execution_count": 5,
     "metadata": {},
     "output_type": "execute_result"
    }
   ],
   "source": [
    "y.head()"
   ]
  },
  {
   "cell_type": "markdown",
   "id": "18e36440-0a77-44d2-ac47-d9f86b07db35",
   "metadata": {},
   "source": [
    "### Estimation\n",
    "\n"
   ]
  },
  {
   "cell_type": "markdown",
   "id": "0c1b77b1-7d3e-4889-8a79-1870b7d22d21",
   "metadata": {},
   "source": [
    "Let $y_{i}^j$ be log expenditures on food $j$ by household $i$ at a particular time.  We want to estimate a regression that takes the form\n",
    "$$\n",
    "      y^j_{i} = A^j(p) + \\gamma_j'd_i + \\beta_j w_i + \\zeta^j_i.\n",
    "$$\n",
    "We have data on `y` (log expenditures) and `d` (household characteristics).  This leaves the rest of the elements for us to estimate.\n",
    "\n"
   ]
  },
  {
   "cell_type": "markdown",
   "id": "b67dabcb-756f-4a2f-b805-5dc2cdb49779",
   "metadata": {},
   "source": [
    "#### Basic Estimation\n",
    "\n"
   ]
  },
  {
   "cell_type": "markdown",
   "id": "ba86e082-6f54-4c0a-9ea3-28cb75fc2c23",
   "metadata": {},
   "source": [
    "Just one line to set up the regression:\n",
    "\n"
   ]
  },
  {
   "cell_type": "code",
   "execution_count": 7,
   "id": "a0b95f51-fa57-495a-8359-7c2d1f0b3e62",
   "metadata": {},
   "outputs": [],
   "source": [
    "from cfe import Regression\n",
    "\n",
    "result = Regression(y=y,d=d)"
   ]
  },
  {
   "cell_type": "markdown",
   "id": "eddaaaf4-7581-42a3-bc83-5be8e24b8c30",
   "metadata": {},
   "source": [
    "And then one line to predict expenditures and estimate most of the things we need:\n",
    "\n"
   ]
  },
  {
   "cell_type": "code",
   "execution_count": 8,
   "id": "38a6c3fc-8f27-4973-a5c5-e106b5f57140",
   "metadata": {},
   "outputs": [
    {
     "data": {
      "text/plain": [
       "i                                 t        m         j                     \n",
       "0007d1f1449242feb5a25429644fb991  2019-20  Northern  Avocado                    1836.603231\n",
       "                                                     Beans (dry)                8530.391173\n",
       "                                                     Beans (fresh)              4828.283261\n",
       "                                                     Beef                      15788.755164\n",
       "                                                     Bogoya                     4770.257706\n",
       "                                                                                   ...     \n",
       "ffec87c6ae87498f956723afe69266b9  2019-20  Eastern   Sweet Potatoes (fresh)     8625.903421\n",
       "                                                     Tea (leaves)                218.108367\n",
       "                                                     Tomatoes                   1543.016198\n",
       "                                                     Waragi                     4677.821554\n",
       "                                                     Yams (arrowroot)           5174.268876\n",
       "Length: 93400, dtype: float64"
      ]
     },
     "execution_count": 8,
     "metadata": {},
     "output_type": "execute_result"
    }
   ],
   "source": [
    "result.predicted_expenditures()"
   ]
  },
  {
   "cell_type": "markdown",
   "id": "ca8fdc86-fdc3-45c2-9690-1bdf43013bb5",
   "metadata": {},
   "source": [
    "Now we can compare predicted log expenditures with actual:\n",
    "\n"
   ]
  },
  {
   "cell_type": "code",
   "execution_count": 9,
   "id": "4949cde1-d85b-46d0-98c3-b86696f62729",
   "metadata": {},
   "outputs": [
    {
     "data": {
      "text/plain": [
       "<Axes: xlabel='yhat', ylabel='y'>"
      ]
     },
     "execution_count": 9,
     "metadata": {},
     "output_type": "execute_result"
    },
    {
     "data": {
      "image/png": "[encoded data removed]",
      "text/plain": [
       "<Figure size 640x480 with 1 Axes>"
      ]
     },
     "metadata": {},
     "output_type": "display_data"
    }
   ],
   "source": [
    "%matplotlib inline\n",
    "df = pd.DataFrame({'y':y,'yhat':result.get_predicted_log_expenditures()})\n",
    "df.plot.scatter(x='yhat',y='y')"
   ]
  },
  {
   "cell_type": "markdown",
   "id": "c3fd88cc-1965-44f1-8dcb-31d611bc1b4e",
   "metadata": {},
   "source": [
    "That&rsquo;s all there is to estimation!  Note that we didn&rsquo;t estimate\n",
    "demands for all goods&#x2014;lots of goods didn&rsquo;t have enough observations,\n",
    "and were automatically dropped.\n",
    "\n"
   ]
  },
  {
   "cell_type": "markdown",
   "id": "7b59dc6b-76eb-4a4c-a12e-5e1c0179539a",
   "metadata": {},
   "source": [
    "#### Parameters\n",
    "\n"
   ]
  },
  {
   "cell_type": "markdown",
   "id": "64c42faa-851a-45f0-b7f1-9bd34ce7e50e",
   "metadata": {},
   "source": [
    "##### (Relative) Income Elasticity\n",
    "\n"
   ]
  },
  {
   "cell_type": "markdown",
   "id": "46eb40f3-1a0c-438b-b9c2-252ddc87c471",
   "metadata": {},
   "source": [
    "Some of the parameters have an interesting interpretation.  First among these are the $\\beta$ coefficients, which govern how *income elastic* different goods are (higher values means more elastic).  These are also called *Frisch elasticities*.\n",
    "Here we use a plot to visualize, with confidence intervals.\n",
    "\n"
   ]
  },
  {
   "cell_type": "code",
   "execution_count": 10,
   "id": "2155be59-89ee-4e37-8b88-729870e58a14",
   "metadata": {},
   "outputs": [
    {
     "data": {
      "image/png": "[encoded data removed]",
      "text/plain": [
       "<Figure size 800x671.429 with 1 Axes>"
      ]
     },
     "metadata": {},
     "output_type": "display_data"
    }
   ],
   "source": [
    "ax = result.graph_beta()"
   ]
  },
  {
   "cell_type": "markdown",
   "id": "2dd85aa5-b1c6-4859-a077-67ac0fc05b50",
   "metadata": {},
   "source": [
    "To just see the values of $\\beta$:\n",
    "\n"
   ]
  },
  {
   "cell_type": "code",
   "execution_count": 11,
   "id": "88e291d7-11f4-43b2-8f6c-1fd8ced0cf94",
   "metadata": {},
   "outputs": [
    {
     "data": {
      "text/plain": [
       "j\n",
       "Avocado                   0.491605\n",
       "Beans (dry)               0.505585\n",
       "Beans (fresh)             0.402485\n",
       "Beef                      0.414268\n",
       "Bogoya                    0.569319\n",
       "Bread                     0.448379\n",
       "Cabbage (green)           0.422295\n",
       "Cassava (dry)             0.222406\n",
       "Cassava (fresh)           0.358005\n",
       "Chapati                   0.490357\n",
       "Cooking Oil (refined)     0.330803\n",
       "Dodo                      0.381159\n",
       "Donuts                    0.557596\n",
       "Eggplant                  0.425859\n",
       "Eggs                      0.266904\n",
       "Goat Meat                 0.494841\n",
       "Ground Nuts (pounded)     0.413128\n",
       "Ground Nuts (shelled)     0.629584\n",
       "Irish Potatoes            0.469540\n",
       "Jam/Marmalade             0.459178\n",
       "Maize (cobs)              0.660815\n",
       "Maize (flour)             0.490957\n",
       "Mangos                    0.558918\n",
       "Matoke                    0.356349\n",
       "Millet Flour              0.341413\n",
       "Mukene                    0.444387\n",
       "Onions                    0.231682\n",
       "Oranges                   0.683867\n",
       "Other Vegetables          0.600424\n",
       "Pawpaw                    0.620168\n",
       "Pumpkins                  0.564602\n",
       "Restaurant (food)         0.154573\n",
       "Restaurant (soda)         0.532801\n",
       "Rice                      0.435902\n",
       "Salt                      0.208020\n",
       "Sweet Potatoes (fresh)    0.486018\n",
       "Tea (leaves)              0.323903\n",
       "Tomatoes                  0.372229\n",
       "Waragi                    0.405649\n",
       "Yams (arrowroot)          0.658594\n",
       "Name: beta, dtype: float64"
      ]
     },
     "execution_count": 11,
     "metadata": {},
     "output_type": "execute_result"
    }
   ],
   "source": [
    "result.get_beta()"
   ]
  },
  {
   "cell_type": "markdown",
   "id": "44db9cbc-1322-446a-8aa7-432775f6cd07",
   "metadata": {},
   "source": [
    "##### Demand and Household Composition\n",
    "\n"
   ]
  },
  {
   "cell_type": "markdown",
   "id": "80d4bd7c-643d-4956-954e-0386ea36c01e",
   "metadata": {},
   "source": [
    "We&rsquo;re particularly interested in the effects of household composition on demand.  These are captured by the $\\gamma_j$ parameters in the regression.\n",
    "\n"
   ]
  },
  {
   "cell_type": "code",
   "execution_count": 1,
   "id": "f47f950b-c40b-4d05-acb6-61c21c075006",
   "metadata": {},
   "outputs": [],
   "source": [
    "result.get_gamma()"
   ]
  },
  {
   "cell_type": "markdown",
   "id": "b6158421-e374-45e9-a8c3-af3285ff0d29",
   "metadata": {},
   "source": [
    "##### Welfare\n",
    "\n"
   ]
  },
  {
   "cell_type": "markdown",
   "id": "714892ae-fce6-4456-bc3d-dc836d9fdce9",
   "metadata": {},
   "source": [
    "Another import quantity we estimate is $w_i$.  This is a welfare measure for the household.  Here&rsquo;s a histogram:\n",
    "\n"
   ]
  },
  {
   "cell_type": "code",
   "execution_count": 1,
   "id": "ae1acc8b-9a2f-4867-ab33-509639477282",
   "metadata": {},
   "outputs": [],
   "source": [
    "ax = result.get_w().plot.hist(bins=100,density=True)\n",
    "result.get_w().plot.kde(ax=ax)"
   ]
  },
  {
   "cell_type": "markdown",
   "id": "fa4396b4-fe8f-4bcd-8af3-cb358bd0120c",
   "metadata": {},
   "source": [
    "#### Saving Result\n",
    "\n"
   ]
  },
  {
   "cell_type": "markdown",
   "id": "02f997fe-1619-4547-9506-32e641cf2b3d",
   "metadata": {},
   "source": [
    "You can save the estimated result, using something like\n",
    "\n"
   ]
  },
  {
   "cell_type": "code",
   "execution_count": 1,
   "id": "11cdcada-726a-40a1-98e4-4016e3a20bdf",
   "metadata": {},
   "outputs": [],
   "source": [
    "result.to_pickle('uganda_estimates.rgsn')"
   ]
  },
  {
   "cell_type": "markdown",
   "id": "40d2c1e1-dd3a-419d-aa68-d1a2b558b710",
   "metadata": {},
   "source": [
    "You can subsequently load this using\n",
    "\n"
   ]
  },
  {
   "cell_type": "code",
   "execution_count": 1,
   "id": "c27a3b20-b200-4301-b7f6-32b0ba9d8bcd",
   "metadata": {},
   "outputs": [],
   "source": [
    "import cfe\n",
    "result = cfe.regression.read_pickle('uganda_estimates.rgsn')"
   ]
  },
  {
   "cell_type": "markdown",
   "id": "8ce3a4e0-24a6-45c5-ba89-fac45fd09314",
   "metadata": {},
   "source": [
    "#### Demand and Utility\n",
    "\n"
   ]
  },
  {
   "cell_type": "markdown",
   "id": "5437c87c-1cc4-4e85-b2a0-f540725c1b84",
   "metadata": {},
   "source": [
    "Having estimated the demand system, we can examine the implied demand curves.\n",
    "\n"
   ]
  },
  {
   "cell_type": "markdown",
   "id": "1856b252-f75e-4d5e-9f14-882a03ae53c4",
   "metadata": {},
   "source": [
    "##### Budgets\n",
    "\n"
   ]
  },
  {
   "cell_type": "markdown",
   "id": "36f04afa-cc38-4d0a-b7c1-47ae5f1148ec",
   "metadata": {},
   "source": [
    "Get food budget for all households, then find median budget:\n",
    "\n"
   ]
  },
  {
   "cell_type": "code",
   "execution_count": 1,
   "id": "fa14f501-ad37-418e-8aa3-7b6dfc14b709",
   "metadata": {},
   "outputs": [],
   "source": [
    "import numpy as np\n",
    "\n",
    "xhat = result.predicted_expenditures()\n",
    "\n",
    "# Total food expenditures per household\n",
    "xbar = xhat.groupby(['i','t','m']).sum()\n",
    "\n",
    "# Reference budget\n",
    "xref = xbar.quantile(0.5)  # Household at 0.5 quantile is median"
   ]
  },
  {
   "cell_type": "markdown",
   "id": "42be6585-102e-4bf7-91c2-3c4143da7ac4",
   "metadata": {},
   "source": [
    "##### Reference Prices\n",
    "\n"
   ]
  },
  {
   "cell_type": "markdown",
   "id": "c098f0e3-e653-4ef7-81fd-957081ecaee5",
   "metadata": {},
   "source": [
    "Choose reference prices.  Here we&rsquo;ll choose a particular year, and average prices across markets.  If you wanted to focus on particular market you&rsquo;d do this differently.\n",
    "\n"
   ]
  },
  {
   "cell_type": "code",
   "execution_count": 1,
   "id": "458a14b8-2291-4f7d-b56a-58b8b0c00b51",
   "metadata": {},
   "outputs": [],
   "source": [
    "# Reference prices chosen from a particular time; average across place.\n",
    "# These are prices per kilogram:\n",
    "pbar = p.mean(axis=1)\n",
    "pbar = pbar[result.beta.index] # Only use prices for goods we can estimate\n",
    "\n",
    "# Replace missing prices with 1 (this is because they're best measured in expenditures)\n",
    "pbar = pbar.replace(np.nan,1)\n",
    "\n",
    "#Finally, define a function to change a single price in the vector $p$:\n",
    "def my_prices(p0,j,p=pbar):\n",
    "    \"\"\"\n",
    "    Change price of jth good to p0, holding other prices fixed.\n",
    "    \"\"\"\n",
    "    p = p.copy()\n",
    "    p.loc[j] = p0\n",
    "    return p"
   ]
  },
  {
   "cell_type": "markdown",
   "id": "070fcde6-8c07-4244-b9d0-218f58cc85f1",
   "metadata": {},
   "source": [
    "##### Demand as a function of prices\n",
    "\n"
   ]
  },
  {
   "cell_type": "markdown",
   "id": "39d1eb20-e854-406f-ba3e-6d9e1552a665",
   "metadata": {},
   "source": [
    "Let&rsquo;s take a look at demand schedules for households with different budgets.\n",
    "\n"
   ]
  },
  {
   "cell_type": "code",
   "execution_count": 1,
   "id": "60983acf-7547-4d45-a445-d50634aac613",
   "metadata": {},
   "outputs": [],
   "source": [
    "import matplotlib.pyplot as plt\n",
    "%matplotlib inline\n",
    "\n",
    "use = 'Millet Flour'  # Good we want demand curve for\n",
    "\n",
    "# Vary prices from 50% to 200% of reference.\n",
    "scale = np.linspace(.5,2,20)\n",
    "\n",
    "# Demand for Millet for household at median budget\n",
    "plt.plot([result.demands(xref,my_prices(pbar[use]*s,use,pbar))[use] for s in scale],scale)\n",
    "\n",
    "# Demand for Millet for household at 25% percentile\n",
    "plt.plot([result.demands(xbar.quantile(0.25),my_prices(pbar[use]*s,use,pbar))[use] for s in scale],scale)\n",
    "\n",
    "# Demand for Millet for household at 75% percentile\n",
    "plt.plot([result.demands(xbar.quantile(0.75),my_prices(pbar[use]*s,use,pbar))[use] for s in scale],scale)\n",
    "\n",
    "plt.ylabel(f\"Price (relative to base of {pbar[use]:.2f})\")\n",
    "plt.xlabel(f\"Quantities of {use} Demanded\")"
   ]
  },
  {
   "cell_type": "markdown",
   "id": "3bd98a89-6c06-428c-ace7-0e0826b27123",
   "metadata": {},
   "source": [
    "##### Engel Curves\n",
    "\n"
   ]
  },
  {
   "cell_type": "markdown",
   "id": "de99a244-59ba-477a-bfb5-2bf9cb263f2a",
   "metadata": {},
   "source": [
    "Engel curves trace out how demand changes with budget:\n",
    "\n"
   ]
  },
  {
   "cell_type": "code",
   "execution_count": 1,
   "id": "6dea2fa0-a1ed-4a12-b48b-c76f82e07d9a",
   "metadata": {},
   "outputs": [],
   "source": [
    "fig,ax = plt.subplots()\n",
    "\n",
    "ax.plot(np.log(scale*xref),[result.expenditures(s*xref,pbar)/(s*xref) for s in scale])\n",
    "ax.set_xlabel(f'log budget (relative to base of {xref:.0f}')\n",
    "ax.set_ylabel(f'Expenditure share')\n",
    "ax.set_title('Engel Curves')"
   ]
  },
  {
   "cell_type": "markdown",
   "id": "cd03ca25-5c6a-4101-a0f5-816a098f13c6",
   "metadata": {},
   "source": [
    "##### Indirect Utility\n",
    "\n"
   ]
  },
  {
   "cell_type": "markdown",
   "id": "b0a9562d-2c39-4de6-bc19-6380632b539a",
   "metadata": {},
   "source": [
    "We can also describe an indirect utility function that corresponds to these demands:\n",
    "\n"
   ]
  },
  {
   "cell_type": "code",
   "execution_count": 1,
   "id": "8faf40b7-7f13-41fc-a09b-d63fb5822107",
   "metadata": {},
   "outputs": [],
   "source": [
    "fig,ax = plt.subplots()\n",
    "\n",
    "ax.plot(scale*xref,[result.indirect_utility(s*xref,pbar) for s in scale])\n",
    "ax.set_xlabel(f'Indirect Utility (Budget relative to base of {xref:.0f}')\n",
    "ax.set_ylabel(f'Utility')\n",
    "ax.set_title('Indirect Utility Function')"
   ]
  }
 ],
 "metadata": {
  "kernelspec": {
   "display_name": "Python 3 (ipykernel)",
   "language": "python",
   "name": "python3"
  },
  "language_info": {
   "codemirror_mode": {
    "name": "ipython",
    "version": 3
   },
   "file_extension": ".py",
   "mimetype": "text/x-python",
   "name": "python",
   "nbconvert_exporter": "python",
   "pygments_lexer": "ipython3",
   "version": "3.11.11"
  },
  "org": null
 },
 "nbformat": 4,
 "nbformat_minor": 5
}
